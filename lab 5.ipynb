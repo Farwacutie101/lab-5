{
 "cells": [
  {
   "cell_type": "code",
   "execution_count": null,
   "id": "83f4662c",
   "metadata": {},
   "outputs": [],
   "source": [
    "import pandas as pd\n",
    "\n",
    "# Load the dataset\n",
    "titanic_data = pd.read_csv('titanic.csv')\n",
    "\n",
    "# Print concise summary\n",
    "titanic_data.info()\n"
   ]
  },
  {
   "cell_type": "code",
   "execution_count": 1,
   "id": "915df722",
   "metadata": {},
   "outputs": [
    {
     "ename": "NameError",
     "evalue": "name 'titanic_data' is not defined",
     "output_type": "error",
     "traceback": [
      "\u001b[1;31m---------------------------------------------------------------------------\u001b[0m",
      "\u001b[1;31mNameError\u001b[0m                                 Traceback (most recent call last)",
      "Cell \u001b[1;32mIn[1], line 2\u001b[0m\n\u001b[0;32m      1\u001b[0m \u001b[38;5;66;03m# Column labels\u001b[39;00m\n\u001b[1;32m----> 2\u001b[0m column_labels \u001b[38;5;241m=\u001b[39m titanic_data\u001b[38;5;241m.\u001b[39mcolumns\n\u001b[0;32m      3\u001b[0m \u001b[38;5;28mprint\u001b[39m(\u001b[38;5;124m\"\u001b[39m\u001b[38;5;124mColumn Labels:\u001b[39m\u001b[38;5;124m\"\u001b[39m, column_labels)\n\u001b[0;32m      5\u001b[0m \u001b[38;5;66;03m# Shape of the dataset\u001b[39;00m\n",
      "\u001b[1;31mNameError\u001b[0m: name 'titanic_data' is not defined"
     ]
    }
   ],
   "source": [
    "\n",
    "# Column labels\n",
    "column_labels = titanic_data.columns\n",
    "print(\"Column Labels:\", column_labels)\n",
    "\n",
    "# Shape of the dataset\n",
    "dataset_shape = titanic_data.shape\n",
    "print(\"Shape of the Dataset:\", dataset_shape)\n",
    "\n",
    "# Data types of the dataset\n",
    "data_types = titanic_data.dtypes\n",
    "print(\"Data Types:\", data_types)\n",
    "\n",
    "\n",
    "\n",
    "\n",
    "\n",
    "\n",
    "\n",
    "\n",
    "\n",
    "\n",
    "\n"
   ]
  },
  {
   "cell_type": "code",
   "execution_count": null,
   "id": "e87c4dc5",
   "metadata": {},
   "outputs": [],
   "source": [
    "# Column labels\n",
    "column_labels = titanic_data.columns\n",
    "print(\"Column Labels:\", column_labels)\n",
    "\n",
    "# Shape of the dataset\n",
    "dataset_shape = titanic_data.shape\n",
    "print(\"Shape of the Dataset:\", dataset_shape)\n",
    "\n",
    "# Data types of the dataset\n",
    "data_types = titanic_data.dtypes\n",
    "print(\"Data Types:\", data_types)\n",
    "\n"
   ]
  },
  {
   "cell_type": "code",
   "execution_count": null,
   "id": "c0ddf605",
   "metadata": {},
   "outputs": [],
   "source": [
    "pivot_multiple_indexes = pd.pivot_table(titanic_data, index=['Pclass', 'Sex'])\n",
    "print(pivot_multiple_indexes)\n"
   ]
  },
  {
   "cell_type": "code",
   "execution_count": null,
   "id": "9f6beca3",
   "metadata": {},
   "outputs": [],
   "source": [
    "survival_rate_by_gender_class = pd.pivot_table(titanic_data, values='Survived', index='Pclass', columns='Sex', aggfunc='mean')\n",
    "print(survival_rate_by_gender_class)\n"
   ]
  },
  {
   "cell_type": "code",
   "execution_count": null,
   "id": "dd55a841",
   "metadata": {},
   "outputs": [],
   "source": [
    "survival_rate_by_gender_age_class = pd.pivot_table(titanic_data, values='Survived', index=['Pclass', 'Age'], columns='Sex', aggfunc='mean')\n",
    "print(survival_rate_by_gender_age_class)\n"
   ]
  }
 ],
 "metadata": {
  "kernelspec": {
   "display_name": "Python 3 (ipykernel)",
   "language": "python",
   "name": "python3"
  },
  "language_info": {
   "codemirror_mode": {
    "name": "ipython",
    "version": 3
   },
   "file_extension": ".py",
   "mimetype": "text/x-python",
   "name": "python",
   "nbconvert_exporter": "python",
   "pygments_lexer": "ipython3",
   "version": "3.11.5"
  }
 },
 "nbformat": 4,
 "nbformat_minor": 5
}
